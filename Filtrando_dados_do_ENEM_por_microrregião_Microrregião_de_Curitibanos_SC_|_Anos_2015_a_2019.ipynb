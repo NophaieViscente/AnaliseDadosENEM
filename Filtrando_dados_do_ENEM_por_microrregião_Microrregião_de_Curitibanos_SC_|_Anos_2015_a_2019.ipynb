{
  "nbformat": 4,
  "nbformat_minor": 0,
  "metadata": {
    "colab": {
      "name": "Filtrando dados do ENEM por microrregião - Microrregião de Curitibanos - SC | Anos 2015 a 2019",
      "provenance": [],
      "mount_file_id": "1uaAqogNI2FJLAJSNJ4yjWgu0rGm-Qlv7",
      "authorship_tag": "ABX9TyPoSx7B2KIHTc4kwX4Z4ij+",
      "include_colab_link": true
    },
    "kernelspec": {
      "name": "python3",
      "display_name": "Python 3"
    }
  },
  "cells": [
    {
      "cell_type": "markdown",
      "metadata": {
        "id": "view-in-github",
        "colab_type": "text"
      },
      "source": [
        "<a href=\"https://colab.research.google.com/github/NophaieViscente/colab/blob/main/Filtrando_dados_do_ENEM_por_microrregi%C3%A3o_Microrregi%C3%A3o_de_Curitibanos_SC_%7C_Anos_2015_a_2019.ipynb\" target=\"_parent\"><img src=\"https://colab.research.google.com/assets/colab-badge.svg\" alt=\"Open In Colab\"/></a>"
      ]
    },
    {
      "cell_type": "code",
      "metadata": {
        "id": "_kAm5ko7YZol"
      },
      "source": [
        "# Importando a biblioteca 'pandas' \r\n",
        "import pandas as pd"
      ],
      "execution_count": 1,
      "outputs": []
    },
    {
      "cell_type": "code",
      "metadata": {
        "colab": {
          "base_uri": "https://localhost:8080/"
        },
        "id": "9IMxi3sYfFm9",
        "outputId": "a3fa0877-95dd-4f3d-9dd3-40120770bb74"
      },
      "source": [
        "dadosSC = pd.read_csv('/content/drive/MyDrive/microdados_enem_sc_2015_2019.csv')"
      ],
      "execution_count": 3,
      "outputs": [
        {
          "output_type": "stream",
          "text": [
            "/usr/local/lib/python3.6/dist-packages/IPython/core/interactiveshell.py:2718: DtypeWarning: Columns (82,84,142,143,144,158,159,160,161,162,163,164,165,166) have mixed types.Specify dtype option on import or set low_memory=False.\n",
            "  interactivity=interactivity, compiler=compiler, result=result)\n"
          ],
          "name": "stderr"
        }
      ]
    },
    {
      "cell_type": "code",
      "metadata": {
        "id": "ynuEzIMVZAmh"
      },
      "source": [
        "# Criando lista com o nome das cidades da microrregião de Curitibanos. \r\n",
        "regiao_serrana = ['Abdon Batista','Brunópolis','Campos Novos','Curitibanos','Frei Rogério','Monte Carlo',\r\n",
        "'Ponte Alta','Ponte Alta do Norte','Santa Cecília','São Cristóvão do Sul','Vargem','Zortéa']"
      ],
      "execution_count": 4,
      "outputs": []
    },
    {
      "cell_type": "code",
      "metadata": {
        "id": "Em0ywUlrZMmL"
      },
      "source": [
        "# Criando novo dataset somente com as cidades da microrregião serrana dos anos de 2015 a 2019.\r\n",
        "dados_regiao_serrana2015_2019 = pd.DataFrame()\r\n",
        "for cidades in regiao_serrana :\r\n",
        "dados_regiao_serrana2015_2019 = dados_regiao_serrana2015_2019.append(dadosSC[dadosSC['NO_MUNICIPIO_RESIDENCIA'] == cidades])"
      ],
      "execution_count": 6,
      "outputs": []
    },
    {
      "cell_type": "code",
      "metadata": {
        "colab": {
          "base_uri": "https://localhost:8080/"
        },
        "id": "2ZineoqKfzXQ",
        "outputId": "ebf647ef-c7f5-4da0-d399-bd26342ccab1"
      },
      "source": [
        "# verificando o dataset\r\n",
        "dados_regiao_serrana2015_2019.info()"
      ],
      "execution_count": 13,
      "outputs": [
        {
          "output_type": "stream",
          "text": [
            "<class 'pandas.core.frame.DataFrame'>\n",
            "Int64Index: 10438 entries, 5692 to 700209\n",
            "Columns: 169 entries, Unnamed: 0 to IN_TEMPO_ADICIONAL\n",
            "dtypes: float64(51), int64(63), object(55)\n",
            "memory usage: 13.5+ MB\n"
          ],
          "name": "stdout"
        }
      ]
    },
    {
      "cell_type": "code",
      "metadata": {
        "id": "ZzC5X6OKgk_q"
      },
      "source": [
        "# Criando um arquivo csv apenas com os dados da microrregião de curitibanos. \r\n",
        "dados_regiao_serrana2015_2019.to_csv('/content/drive/MyDrive/microdados_enem_microrregiao_curitibanosSC_2015_2019.csv')"
      ],
      "execution_count": 14,
      "outputs": []
    }
  ]
}
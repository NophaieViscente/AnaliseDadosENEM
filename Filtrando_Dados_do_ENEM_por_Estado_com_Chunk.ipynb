{
  "nbformat": 4,
  "nbformat_minor": 0,
  "metadata": {
    "kernelspec": {
      "display_name": "Python 3",
      "language": "python",
      "name": "python3"
    },
    "language_info": {
      "codemirror_mode": {
        "name": "ipython",
        "version": 3
      },
      "file_extension": ".py",
      "mimetype": "text/x-python",
      "name": "python",
      "nbconvert_exporter": "python",
      "pygments_lexer": "ipython3",
      "version": "3.8.5"
    },
    "colab": {
      "name": "Filtrando Dados do ENEM por Estado com Chunk.ipynb",
      "provenance": [],
      "collapsed_sections": [],
      "include_colab_link": true
    }
  },
  "cells": [
    {
      "cell_type": "markdown",
      "metadata": {
        "id": "view-in-github",
        "colab_type": "text"
      },
      "source": [
        "<a href=\"https://colab.research.google.com/github/NophaieViscente/colab/blob/main/Filtrando_Dados_do_ENEM_por_Estado_com_Chunk.ipynb\" target=\"_parent\"><img src=\"https://colab.research.google.com/assets/colab-badge.svg\" alt=\"Open In Colab\"/></a>"
      ]
    },
    {
      "cell_type": "code",
      "metadata": {
        "id": "b3fOb0iihfk-"
      },
      "source": [
        "# Importando a bilbioteca 'pandas'\n",
        "import pandas as pd\n"
      ],
      "execution_count": null,
      "outputs": []
    },
    {
      "cell_type": "code",
      "metadata": {
        "id": "TcKL6bWfhflE"
      },
      "source": [
        "# Capturando os dados do ENEM 2014\n",
        "dfList = []\n",
        "for chunk in pd.read_csv('MICRODADOS_ENEM_2014.csv',sep=',',encoding='ISO-8859-1',chunksize=1000000) :\n",
        "    temp_df = chunk.loc[chunk['UF_RESIDENCIA'] == \"SC\"]\n",
        "    dfList.append(temp_df)\n",
        "                        \n",
        "microdados_enem_sc_2014 = pd.concat(dfList,ignore_index=True)\n",
        "# Alocando em um novo .csv\n",
        "microdados_enem_sc_2014.to_csv('microdados_enem_sc_2014.csv',index=False)"
      ],
      "execution_count": null,
      "outputs": []
    },
    {
      "cell_type": "code",
      "metadata": {
        "id": "K-RR4iWfhflF"
      },
      "source": [
        "# Capturando os dados do ENEM 2015\n",
        "dfList = []\n",
        "for chunk in pd.read_csv('MICRODADOS_ENEM_2015.csv',sep=',',encoding='ISO-8859-1',chunksize=1000000) :\n",
        "    temp_df = chunk.loc[chunk['SG_UF_RESIDENCIA'] == \"SC\"]\n",
        "    dfList.append(temp_df)\n",
        "                        \n",
        "microdados_enem_sc_2015 = pd.concat(dfList,ignore_index=True)\n",
        "# Alocando em um novo .csv\n",
        "microdados_enem_sc_2015.to_csv('microdados_enem_sc_2015.csv',index=False)"
      ],
      "execution_count": null,
      "outputs": []
    },
    {
      "cell_type": "code",
      "metadata": {
        "id": "oKlI7ANAhflG"
      },
      "source": [
        "# Capturando os dados do ENEM 2016\n",
        "dfList = []\n",
        "for chunk in pd.read_csv('MICRODADOS_ENEM_2016.csv',sep=';',encoding='ISO-8859-1',chunksize=1000000) :\n",
        "    temp_df = chunk.loc[chunk['SG_UF_RESIDENCIA'] == \"SC\"]\n",
        "    dfList.append(temp_df)\n",
        "                        \n",
        "microdados_enem_sc_2016 = pd.concat(dfList,ignore_index=True)\n",
        "# Alocando em um novo .csv\n",
        "microdados_enem_sc_2016.to_csv('microdados_enem_sc_2016.csv',index=False)"
      ],
      "execution_count": null,
      "outputs": []
    },
    {
      "cell_type": "code",
      "metadata": {
        "id": "1xi2dUHuhflG"
      },
      "source": [
        "# Capturando os dados do ENEM 2017\n",
        "dfList = []\n",
        "for chunk in pd.read_csv('MICRODADOS_ENEM_2017.csv',sep=';',encoding='ISO-8859-1',chunksize=1000000) :\n",
        "    temp_df = chunk.loc[chunk['SG_UF_RESIDENCIA'] == \"SC\"]\n",
        "    dfList.append(temp_df)\n",
        "                        \n",
        "microdados_enem_sc_2017 = pd.concat(dfList,ignore_index=True)\n",
        "# Alocando em um novo .csv\n",
        "microdados_enem_sc_2017.to_csv('/microdados_enem_sc_2017.csv',index=False)"
      ],
      "execution_count": null,
      "outputs": []
    },
    {
      "cell_type": "code",
      "metadata": {
        "id": "6mvxDKj4hflH"
      },
      "source": [
        "# Capturando os dados do ENEM 2018\n",
        "dfList = []\n",
        "for chunk in pd.read_csv('MICRODADOS_ENEM_2018.csv',sep=';',encoding='ISO-8859-1',chunksize=1000000) :\n",
        "    temp_df = chunk.loc[chunk['SG_UF_RESIDENCIA'] == \"SC\"]\n",
        "    dfList.append(temp_df)\n",
        "                        \n",
        "microdados_enem_sc_2018 = pd.concat(dfList,ignore_index=True)\n",
        "# Alocando em um novo .csv\n",
        "microdados_enem_sc_2018.to_csv('microdados_enem_sc_2018.csv',index=False)"
      ],
      "execution_count": null,
      "outputs": []
    }
  ]
}
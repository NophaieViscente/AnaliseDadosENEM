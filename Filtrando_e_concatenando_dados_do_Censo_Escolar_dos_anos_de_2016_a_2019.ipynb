{
  "nbformat": 4,
  "nbformat_minor": 0,
  "metadata": {
    "colab": {
      "name": "Filtrando e concatenando dados do Censo Escolar dos anos de 2016 a 2019",
      "provenance": [],
      "collapsed_sections": [],
      "authorship_tag": "ABX9TyPSKEDdZi3qZP2oUo9jVQmG",
      "include_colab_link": true
    },
    "kernelspec": {
      "name": "python3",
      "display_name": "Python 3"
    }
  },
  "cells": [
    {
      "cell_type": "markdown",
      "metadata": {
        "id": "view-in-github",
        "colab_type": "text"
      },
      "source": [
        "<a href=\"https://colab.research.google.com/github/NophaieViscente/colab/blob/main/Filtrando_e_concatenando_dados_do_Censo_Escolar_dos_anos_de_2016_a_2019.ipynb\" target=\"_parent\"><img src=\"https://colab.research.google.com/assets/colab-badge.svg\" alt=\"Open In Colab\"/></a>"
      ]
    },
    {
      "cell_type": "code",
      "metadata": {
        "id": "NL18X9Jnq9y7"
      },
      "source": [
        "# Importando as bibliotecas a serem usadas.\r\n",
        "import pandas as pd"
      ],
      "execution_count": null,
      "outputs": []
    },
    {
      "cell_type": "code",
      "metadata": {
        "id": "qGc7I9KyrWFI"
      },
      "source": [
        "# Criando lista para receber os dados de cada iteração do chunk\r\n",
        "dfList = []\r\n",
        "# Criando laço de repetição para usar o chunk\r\n",
        "for chunk in pd.read_csv('DOCENTES_SUL_2016.csv',sep='|',chunksize=100000) :\r\n",
        "    # Usando um DataFrame temporário para alocar os dados da microrregião de Curitibanos - SC\r\n",
        "    tempdf = chunk.loc[chunk['CO_MICRORREGIAO'] == 42009]\r\n",
        "    # Concatenando os dados já filtrados pela microrregião\r\n",
        "    dfList.append(tempdf)\r\n",
        "# Criando um dataframe com os dados da lista que recebeu os dados do chunk\r\n",
        "microdados_docentes_2016 = pd.concat(dfList,ignore_index=True)\r\n",
        "# Criando um arquivo .csv para os dados filtrados pela microrregião de Curitibanos - SC\r\n",
        "microdados_docentes_2016.to_csv('microdados_docentes_2016.csv',index=False)"
      ],
      "execution_count": null,
      "outputs": []
    },
    {
      "cell_type": "code",
      "metadata": {
        "id": "dRLw4EsAsJU7"
      },
      "source": [
        "dfList = []\r\n",
        "for chunk in pd.read_csv('MATRICULA_SUL_2016.csv',sep='|',chunksize=100000) :\r\n",
        "    tempdf = chunk.loc[chunk['CO_MICRORREGIAO'] == 42009]\r\n",
        "    dfList.append(tempdf)\r\n",
        "microdados_matricula_2016 = pd.concat(dfList,ignore_index=True)\r\n",
        "microdados_matricula_2016.to_csv('microdados_matricula_2016.csv',index=False)"
      ],
      "execution_count": null,
      "outputs": []
    },
    {
      "cell_type": "code",
      "metadata": {
        "id": "s28YrqdFsMY0"
      },
      "source": [
        "dfList = []\r\n",
        "for chunk in pd.read_csv('TURMAS_2016.csv',sep='|',encoding='ISO-8859-1',chunksize=100000) :\r\n",
        "    tempdf = chunk.loc[chunk['CO_MICRORREGIAO'] == 42009]\r\n",
        "    dfList.append(tempdf)\r\n",
        "microdados_turmas_2016 = pd.concat(dfList,ignore_index=True)\r\n",
        "microdados_turmas_2016.to_csv('microdados_turmas_2016.csv',index=False)"
      ],
      "execution_count": null,
      "outputs": []
    },
    {
      "cell_type": "code",
      "metadata": {
        "id": "RIz7AYSAsOuU"
      },
      "source": [
        "dfList = []\r\n",
        "for chunk in pd.read_csv('ESCOLAS_2016.csv',sep='|',encoding='ISO-8859-1',chunksize=100000) :\r\n",
        "    tempdf = chunk.loc[chunk['CO_MICRORREGIAO'] == 42009]\r\n",
        "    dfList.append(tempdf)\r\n",
        "microdados_escolas_2016 = pd.concat(dfList,ignore_index=True)\r\n",
        "microdados_escolas_2016.to_csv('microdados_escolas_2016.csv',index=False)"
      ],
      "execution_count": null,
      "outputs": []
    },
    {
      "cell_type": "code",
      "metadata": {
        "id": "rPVbofAisQ6i"
      },
      "source": [
        "dfList = []\r\n",
        "for chunk in pd.read_csv('DOCENTES_SUL_2017.csv',sep='|',chunksize=100000) :\r\n",
        "    tempdf = chunk.loc[chunk['CO_MICRORREGIAO'] == 42009]\r\n",
        "    dfList.append(tempdf)\r\n",
        "microdados_docentes_2017 = pd.concat(dfList,ignore_index=True)\r\n",
        "microdados_docentes_2017.to_csv('microdados_docentes_2017.csv',index=False)"
      ],
      "execution_count": null,
      "outputs": []
    },
    {
      "cell_type": "code",
      "metadata": {
        "id": "0P7Wm9vnsS4y"
      },
      "source": [
        "dfList = []\r\n",
        "for chunk in pd.read_csv('TURMAS_2017.csv',sep='|',encoding='ISO-8859-1',chunksize=100000) :\r\n",
        "    tempdf = chunk.loc[chunk['CO_MICRORREGIAO'] == 42009]\r\n",
        "    dfList.append(tempdf)\r\n",
        "microdados_turmas_2017 = pd.concat(dfList,ignore_index=True)\r\n",
        "microdados_turmas_2017.to_csv('microdados_turmas_2017.csv',index=False)"
      ],
      "execution_count": null,
      "outputs": []
    },
    {
      "cell_type": "code",
      "metadata": {
        "id": "tRfqHRb6sU1-"
      },
      "source": [
        "dfList = []\r\n",
        "for chunk in pd.read_csv('MATRICULA_SUL_2017.csv',sep='|',chunksize=100000) :\r\n",
        "    tempdf = chunk.loc[chunk['CO_MICRORREGIAO'] == 42009]\r\n",
        "    dfList.append(tempdf)\r\n",
        "microdados_matricula_2017 = pd.concat(dfList,ignore_index=True)\r\n",
        "microdados_matricula_2017.to_csv('microdados_matricula_2017.csv',index=False)"
      ],
      "execution_count": null,
      "outputs": []
    },
    {
      "cell_type": "code",
      "metadata": {
        "id": "kxwcp0TvsXOG"
      },
      "source": [
        "dfList = []\r\n",
        "for chunk in pd.read_csv('ESCOLAS_2017.csv',sep='|',encoding='ISO-8859-1',chunksize=100000) :\r\n",
        "    tempdf = chunk.loc[chunk['CO_MICRORREGIAO'] == 42009]\r\n",
        "    dfList.append(tempdf)\r\n",
        "microdados_escolas_2017 = pd.concat(dfList,ignore_index=True)\r\n",
        "microdados_escolas_2017.to_csv('microdados_escolas_2017.csv',index=False)"
      ],
      "execution_count": null,
      "outputs": []
    },
    {
      "cell_type": "code",
      "metadata": {
        "id": "Hnc7NJ9IsZKb"
      },
      "source": [
        "dfList = []\r\n",
        "for chunk in pd.read_csv('DOCENTES_SUL_2018.csv',sep='|',chunksize=100000) :\r\n",
        "    tempdf = chunk.loc[chunk['CO_MICRORREGIAO'] == 42009]\r\n",
        "    dfList.append(tempdf)\r\n",
        "microdados_docentes_2018 = pd.concat(dfList,ignore_index=True)\r\n",
        "microdados_docentes_2018.to_csv('microdados_docentes_2018.csv',index=False)"
      ],
      "execution_count": null,
      "outputs": []
    },
    {
      "cell_type": "code",
      "metadata": {
        "id": "-WdPGiYksbHF"
      },
      "source": [
        "dfList = []\r\n",
        "for chunk in pd.read_csv('TURMAS_2018.csv',sep='|',encoding='ISO-8859-1',chunksize=100000) :\r\n",
        "    tempdf = chunk.loc[chunk['CO_MICRORREGIAO'] == 42009]\r\n",
        "    dfList.append(tempdf)\r\n",
        "microdados_turmas_2018 = pd.concat(dfList,ignore_index=True)\r\n",
        "microdados_turmas_2018.to_csv('microdados_turmas_2018.csv',index=False)"
      ],
      "execution_count": null,
      "outputs": []
    },
    {
      "cell_type": "code",
      "metadata": {
        "id": "wsUCPs2rsdsz"
      },
      "source": [
        "dfList = []\r\n",
        "for chunk in pd.read_csv('MATRICULA_SUL_2018.csv',sep='|',chunksize=100000) :\r\n",
        "    tempdf = chunk.loc[chunk['CO_MICRORREGIAO'] == 42009]\r\n",
        "    dfList.append(tempdf)\r\n",
        "microdados_matricula_2018 = pd.concat(dfList,ignore_index=True)\r\n",
        "microdados_matricula_2018.to_csv('microdados_matricula_2018.csv',index=False)"
      ],
      "execution_count": null,
      "outputs": []
    },
    {
      "cell_type": "code",
      "metadata": {
        "id": "XXZS-uS9sgit"
      },
      "source": [
        "dfList = []\r\n",
        "for chunk in pd.read_csv('ESCOLAS_2018.csv',sep='|',encoding='ISO-8859-1',chunksize=100000) :\r\n",
        "    tempdf = chunk.loc[chunk['CO_MICRORREGIAO'] == 42009]\r\n",
        "    dfList.append(tempdf)\r\n",
        "microdados_escolas_2018 = pd.concat(dfList,ignore_index=True)\r\n",
        "microdados_escolas_2018.to_csv('microdados_escolas_2018.csv',index=False)"
      ],
      "execution_count": null,
      "outputs": []
    },
    {
      "cell_type": "code",
      "metadata": {
        "id": "qt5a-uEgsi_e"
      },
      "source": [
        "dfList = []\r\n",
        "for chunk in pd.read_csv('DOCENTES_SUL_2019.csv',sep='|',chunksize=100000) :\r\n",
        "    tempdf = chunk.loc[chunk['CO_MICRORREGIAO'] == 42009]\r\n",
        "    dfList.append(tempdf)\r\n",
        "microdados_docentes_2019 = pd.concat(dfList,ignore_index=True)\r\n",
        "microdados_docentes_2019.to_csv('microdados_docentes_2019.csv',index=False)"
      ],
      "execution_count": null,
      "outputs": []
    },
    {
      "cell_type": "code",
      "metadata": {
        "id": "yxetfoSmsk_k"
      },
      "source": [
        "dfList = []\r\n",
        "for chunk in pd.read_csv('TURMAS_2019.csv',sep='|',encoding='ISO-8859-1',chunksize=100000) :\r\n",
        "    tempdf = chunk.loc[chunk['CO_MICRORREGIAO'] == 42009]\r\n",
        "    dfList.append(tempdf)\r\n",
        "microdados_turmas_2019 = pd.concat(dfList,ignore_index=True)\r\n",
        "microdados_turmas_2019.to_csv('microdados_turmas_2019.csv',index=False)"
      ],
      "execution_count": null,
      "outputs": []
    },
    {
      "cell_type": "code",
      "metadata": {
        "id": "DvQTxlsKsnSa"
      },
      "source": [
        "dfList = []\r\n",
        "for chunk in pd.read_csv('MATRICULA_SUL_2019.csv',sep='|',chunksize=100000) :\r\n",
        "    tempdf = chunk.loc[chunk['CO_MICRORREGIAO'] == 42009]\r\n",
        "    dfList.append(tempdf)\r\n",
        "microdados_matricula_2019 = pd.concat(dfList,ignore_index=True)\r\n",
        "microdados_matricula_2019.to_csv('microdados_matricula_2019.csv',index=False)"
      ],
      "execution_count": null,
      "outputs": []
    },
    {
      "cell_type": "code",
      "metadata": {
        "id": "1hVuoXGMspWO"
      },
      "source": [
        "dfList = []\r\n",
        "for chunk in pd.read_csv('ESCOLAS_2019.csv',sep='|',encoding='ISO-8859-1',chunksize=100000) :\r\n",
        "    tempdf = chunk.loc[chunk['CO_MICRORREGIAO'] == 42009]\r\n",
        "    dfList.append(tempdf)\r\n",
        "microdados_escolas_2019 = pd.concat(dfList,ignore_index=True)\r\n",
        "microdados_escolas_2019.to_csv('microdados_escolas_2019.csv',index=False)"
      ],
      "execution_count": null,
      "outputs": []
    },
    {
      "cell_type": "code",
      "metadata": {
        "id": "Tyti5AtnssOa"
      },
      "source": [
        "# Lendo os dados criados para os docentes\r\n",
        "dados_docentes_2016 = pd.read_csv('microdados_docentes_2016.csv')\r\n",
        "dados_docentes_2017 = pd.read_csv('microdados_docentes_2017.csv')\r\n",
        "dados_docentes_2018 = pd.read_csv('microdados_docentes_2018.csv')\r\n",
        "dados_docentes_2019 = pd.read_csv('microdados_docentes_2019.csv')\r\n",
        "# concatenando em um único dataset\r\n",
        "dados_rs_docentes_2016_2019 = pd.concat([dados_docentes_2016,dados_docentes_2017,dados_docentes_2018,dados_docentes_2019])\r\n",
        "# Criando arquivo .csv com o dataset\r\n",
        "dados_rs_docentes_2016_2019.to_csv('dados_docentes_regiao_serrana_2016_2019.csv')"
      ],
      "execution_count": null,
      "outputs": []
    },
    {
      "cell_type": "code",
      "metadata": {
        "id": "qbsFOZscsu5R"
      },
      "source": [
        "# Lendo os dados criados para as matriculas\r\n",
        "dados_matricula_2016 = pd.read_csv('microdados_matricula_2016.csv')\r\n",
        "dados_matricula_2017 = pd.read_csv('microdados_matricula_2017.csv')\r\n",
        "dados_matricula_2018 = pd.read_csv('microdados_matricula_2018.csv')\r\n",
        "dados_matricula_2019 = pd.read_csv('microdados_matricula_2019.csv')\r\n",
        "# concatenando em um único dataset\r\n",
        "dados_rs_matricula_2016_2019 = pd.concat([dados_matricula_2016,dados_matricula_2017,dados_matricula_2018,dados_matricula_2019])\r\n",
        "# Criando arquivo .csv com o dataset\r\n",
        "dados_rs_matricula_2016_2019.to_csv('dados_matricula_regiao_serrana_2016_2019.csv')"
      ],
      "execution_count": null,
      "outputs": []
    },
    {
      "cell_type": "code",
      "metadata": {
        "id": "KC1vIMSss2gX"
      },
      "source": [
        "# Lendo os dados criados para as escolas\r\n",
        "dados_escolas_2016 = pd.read_csv('microdados_escolas_2016.csv')\r\n",
        "dados_escolas_2017 = pd.read_csv('microdados_escolas_2017.csv')\r\n",
        "dados_escolas_2018 = pd.read_csv('microdados_escolas_2018.csv')\r\n",
        "dados_escolas_2019 = pd.read_csv('microdados_escolas_2019.csv')\r\n",
        "# concatenando em um único dataset\r\n",
        "dados_rs_escolas_2016_2019 = pd.concat([dados_escolas_2016,dados_escolas_2017,dados_escolas_2018,dados_escolas_2019])\r\n",
        "# Criando arquivo .csv com o dataset\r\n",
        "dados_rs_escolas_2016_2019.to_csv('dados_escolas_regiao_serrana_2016_2019.csv')"
      ],
      "execution_count": null,
      "outputs": []
    },
    {
      "cell_type": "code",
      "metadata": {
        "id": "9ayajxm4s9kd"
      },
      "source": [
        "# Lendo os dados criados para as turmas\r\n",
        "dados_turmas_2016 = pd.read_csv('microdados_turmas_2016.csv')\r\n",
        "dados_turmas_2017 = pd.read_csv('microdados_turmas_2017.csv')\r\n",
        "dados_turmas_2018 = pd.read_csv('microdados_turmas_2018.csv')\r\n",
        "dados_turmas_2019 = pd.read_csv('microdados_turmas_2019.csv')\r\n",
        "# concatenando em um único dataset\r\n",
        "dados_rs_turmas_2016_2019 = pd.concat([dados_turmas_2016,dados_turmas_2017,dados_turmas_2018,dados_turmas_2019])\r\n",
        "# Criando arquivo .csv com o dataset\r\n",
        "dados_rs_turmas_2016_2019.to_csv('dados_turmas_regiao_serrana_2016_2019.csv')"
      ],
      "execution_count": null,
      "outputs": []
    }
  ]
}
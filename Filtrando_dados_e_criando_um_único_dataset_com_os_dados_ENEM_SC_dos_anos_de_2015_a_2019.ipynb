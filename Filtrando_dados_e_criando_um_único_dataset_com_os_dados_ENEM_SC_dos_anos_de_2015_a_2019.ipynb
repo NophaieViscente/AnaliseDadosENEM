{
  "nbformat": 4,
  "nbformat_minor": 0,
  "metadata": {
    "colab": {
      "name": "Filtrando dados e criando um único dataset com os dados ENEM SC dos anos de 2015 a 2019",
      "provenance": [],
      "authorship_tag": "ABX9TyNdAfB1ClItjyZ5Kb3Gatss",
      "include_colab_link": true
    },
    "kernelspec": {
      "name": "python3",
      "display_name": "Python 3"
    }
  },
  "cells": [
    {
      "cell_type": "markdown",
      "metadata": {
        "id": "view-in-github",
        "colab_type": "text"
      },
      "source": [
        "<a href=\"https://colab.research.google.com/github/NophaieViscente/colab/blob/main/Filtrando_dados_e_criando_um_%C3%BAnico_dataset_com_os_dados_ENEM_SC_dos_anos_de_2015_a_2019.ipynb\" target=\"_parent\"><img src=\"https://colab.research.google.com/assets/colab-badge.svg\" alt=\"Open In Colab\"/></a>"
      ]
    },
    {
      "cell_type": "code",
      "metadata": {
        "id": "BwH2g_XWpxTL"
      },
      "source": [
        "# Importando as bibliotecas \r\n",
        "import pandas as pd \r\n",
        "import matplotlib.pyplot as plt\r\n",
        "import seaborn as sns\r\n",
        "\r\n",
        "# Carregando os dados do ENEM já filtrado por estado.\r\n",
        "dadosSC2015 = pd.read_csv('/content/drive/MyDrive/microdados_enem_sc_2015.csv')\r\n",
        "dadosSC2016 = pd.read_csv('/content/drive/MyDrive/microdados_enem_sc_2016.csv')\r\n",
        "dadosSC2017 = pd.read_csv('/content/drive/MyDrive/microdados_enem_sc_2017.csv')\r\n",
        "dadosSC2018 = pd.read_csv('/content/drive/MyDrive/microdados_enem_sc_2018.csv') \r\n",
        "dadosSC2019 = pd.read_csv('/content/drive/MyDrive/microdados_enem_SC_2019.csv')"
      ],
      "execution_count": null,
      "outputs": []
    },
    {
      "cell_type": "code",
      "metadata": {
        "colab": {
          "base_uri": "https://localhost:8080/"
        },
        "id": "0OxE0RI5v9nb",
        "outputId": "3614e0c2-75ab-42a9-8f79-620f6e5ed323"
      },
      "source": [
        "# Conferindo as propriedades os datasets. \r\n",
        "dadosSC2015.info(),dadosSC2016.info(),dadosSC2017.info(),dadosSC2018.info(),dadosSC2019.info()"
      ],
      "execution_count": null,
      "outputs": [
        {
          "output_type": "stream",
          "text": [
            "<class 'pandas.core.frame.DataFrame'>\n",
            "RangeIndex: 162874 entries, 0 to 162873\n",
            "Columns: 166 entries, NU_INSCRICAO to Q050\n",
            "dtypes: float64(45), int64(66), object(55)\n",
            "memory usage: 206.3+ MB\n",
            "<class 'pandas.core.frame.DataFrame'>\n",
            "RangeIndex: 176891 entries, 0 to 176890\n",
            "Columns: 166 entries, NU_INSCRICAO to Q050\n",
            "dtypes: float64(45), int64(66), object(55)\n",
            "memory usage: 224.0+ MB\n",
            "<class 'pandas.core.frame.DataFrame'>\n",
            "RangeIndex: 127087 entries, 0 to 127086\n",
            "Columns: 137 entries, NU_INSCRICAO to Q027\n",
            "dtypes: float64(31), int64(63), object(43)\n",
            "memory usage: 132.8+ MB\n",
            "<class 'pandas.core.frame.DataFrame'>\n",
            "RangeIndex: 123933 entries, 0 to 123932\n",
            "Columns: 137 entries, NU_INSCRICAO to Q027\n",
            "dtypes: float64(30), int64(64), object(43)\n",
            "memory usage: 129.5+ MB\n",
            "<class 'pandas.core.frame.DataFrame'>\n",
            "RangeIndex: 109515 entries, 0 to 109514\n",
            "Columns: 136 entries, NU_INSCRICAO to Q025\n",
            "dtypes: float64(24), int64(71), object(41)\n",
            "memory usage: 113.6+ MB\n"
          ],
          "name": "stdout"
        },
        {
          "output_type": "execute_result",
          "data": {
            "text/plain": [
              "(None, None, None, None, None)"
            ]
          },
          "metadata": {
            "tags": []
          },
          "execution_count": 31
        }
      ]
    },
    {
      "cell_type": "code",
      "metadata": {
        "id": "LfvwbrcCn9KL"
      },
      "source": [
        "# Removendo dados de 2015 os quais não vamos utilizar que são dados 'não declarados' na declaração de raça.\r\n",
        "dados_remover2015 = dadosSC2015.loc[dadosSC2015['TP_COR_RACA'] == 6]\r\n",
        "dadosSC2015.drop(dados_remover2015.index,inplace=True)"
      ],
      "execution_count": null,
      "outputs": []
    },
    {
      "cell_type": "code",
      "metadata": {
        "id": "Xl8bzBgVwq8n"
      },
      "source": [
        "# Concatenando os datasets.\r\n",
        "dadosSC = pd.concat([dadosSC2015,dadosSC2016,dadosSC2017,dadosSC2018,dadosSC2019])"
      ],
      "execution_count": null,
      "outputs": []
    },
    {
      "cell_type": "code",
      "metadata": {
        "id": "6aWBlrkBZTCB"
      },
      "source": [
        "# Criando um arquivo csv com os datasets concatenados em um único contendo os dados de 2015 a 2019.\r\n",
        "dadosSC.to_csv('/content/drive/MyDrive/microdados_enem_sc_2015_2019.csv')"
      ],
      "execution_count": null,
      "outputs": []
    }
  ]
}